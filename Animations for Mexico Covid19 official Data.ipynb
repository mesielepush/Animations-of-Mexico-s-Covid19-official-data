{
 "cells": [
  {
   "cell_type": "code",
   "execution_count": 4,
   "metadata": {},
   "outputs": [],
   "source": [
    "import os\n",
    "import numpy as np\n",
    "import pandas as pd"
   ]
  },
  {
   "cell_type": "code",
   "execution_count": 7,
   "metadata": {},
   "outputs": [],
   "source": [
    "data_path = r'C:\\Users\\jupol\\Desktop\\TensorTut\\covid\\legacyCovidMexico'\n",
    "data_dir = os.listdir(data_path)"
   ]
  },
  {
   "cell_type": "code",
   "execution_count": 8,
   "metadata": {},
   "outputs": [
    {
     "data": {
      "text/plain": [
       "['200514COVID19MEXICO.csv',\n",
       " '200515COVID19MEXICO.csv',\n",
       " '200518COVID19MEXICO.csv',\n",
       " '200519COVID19MEXICO.csv',\n",
       " '200520COVID19MEXICO.csv',\n",
       " '200521COVID19MEXICO.csv',\n",
       " '200522COVID19MEXICO.csv',\n",
       " '200523COVID19MEXICO.csv',\n",
       " '200524COVID19MEXICO.csv',\n",
       " '200525COVID19MEXICO.csv',\n",
       " '200526COVID19MEXICO.csv',\n",
       " '200527COVID19MEXICO.csv',\n",
       " '200528COVID19MEXICO.csv',\n",
       " '200529COVID19MEXICO.csv',\n",
       " '200530COVID19MEXICO.csv',\n",
       " '200531COVID19MEXICO.csv',\n",
       " '200601COVID19MEXICO.csv',\n",
       " '200602COVID19MEXICO.csv',\n",
       " '200603COVID19MEXICO.csv',\n",
       " '200604COVID19MEXICO.csv',\n",
       " '200605COVID19MEXICO.csv',\n",
       " '200606COVID19MEXICO.csv',\n",
       " 'Casos_Diarios_Estado_Nacional_Confirmados_20200514.csv',\n",
       " 'Casos_Diarios_Estado_Nacional_Confirmados_20200515.csv',\n",
       " 'Casos_Diarios_Estado_Nacional_Confirmados_20200518.csv',\n",
       " 'Casos_Diarios_Estado_Nacional_Confirmados_20200519.csv',\n",
       " 'Casos_Diarios_Estado_Nacional_Confirmados_20200520.csv',\n",
       " 'Casos_Diarios_Estado_Nacional_Confirmados_20200521.csv',\n",
       " 'Casos_Diarios_Estado_Nacional_Confirmados_20200522.csv',\n",
       " 'Casos_Diarios_Estado_Nacional_Confirmados_20200523.csv',\n",
       " 'Casos_Diarios_Estado_Nacional_Confirmados_20200524.csv',\n",
       " 'Casos_Diarios_Estado_Nacional_Confirmados_20200525.csv',\n",
       " 'Casos_Diarios_Estado_Nacional_Confirmados_20200526.csv',\n",
       " 'Casos_Diarios_Estado_Nacional_Confirmados_20200527.csv',\n",
       " 'Casos_Diarios_Estado_Nacional_Confirmados_20200528.csv',\n",
       " 'Casos_Diarios_Estado_Nacional_Confirmados_20200529.csv',\n",
       " 'Casos_Diarios_Estado_Nacional_Confirmados_20200530.csv',\n",
       " 'Casos_Diarios_Estado_Nacional_Confirmados_20200531.csv',\n",
       " 'Casos_Diarios_Estado_Nacional_Confirmados_20200601.csv',\n",
       " 'Casos_Diarios_Estado_Nacional_Confirmados_20200602.csv',\n",
       " 'Casos_Diarios_Estado_Nacional_Confirmados_20200603.csv',\n",
       " 'Casos_Diarios_Estado_Nacional_Confirmados_20200604.csv',\n",
       " 'Casos_Diarios_Estado_Nacional_Confirmados_20200605.csv',\n",
       " 'Casos_Diarios_Estado_Nacional_Confirmados_20200606.csv',\n",
       " 'Casos_Diarios_Estado_Nacional_Defunciones_20200514.csv',\n",
       " 'Casos_Diarios_Estado_Nacional_Defunciones_20200515.csv',\n",
       " 'Casos_Diarios_Estado_Nacional_Defunciones_20200518.csv',\n",
       " 'Casos_Diarios_Estado_Nacional_Defunciones_20200519.csv',\n",
       " 'Casos_Diarios_Estado_Nacional_Defunciones_20200520.csv',\n",
       " 'Casos_Diarios_Estado_Nacional_Defunciones_20200521.csv',\n",
       " 'Casos_Diarios_Estado_Nacional_Defunciones_20200522.csv',\n",
       " 'Casos_Diarios_Estado_Nacional_Defunciones_20200523.csv',\n",
       " 'Casos_Diarios_Estado_Nacional_Defunciones_20200524.csv',\n",
       " 'Casos_Diarios_Estado_Nacional_Defunciones_20200525.csv',\n",
       " 'Casos_Diarios_Estado_Nacional_Defunciones_20200526.csv',\n",
       " 'Casos_Diarios_Estado_Nacional_Defunciones_20200527.csv',\n",
       " 'Casos_Diarios_Estado_Nacional_Defunciones_20200528.csv',\n",
       " 'Casos_Diarios_Estado_Nacional_Defunciones_20200529.csv',\n",
       " 'Casos_Diarios_Estado_Nacional_Defunciones_20200530.csv',\n",
       " 'Casos_Diarios_Estado_Nacional_Defunciones_20200531.csv',\n",
       " 'Casos_Diarios_Estado_Nacional_Defunciones_20200601.csv',\n",
       " 'Casos_Diarios_Estado_Nacional_Defunciones_20200602.csv',\n",
       " 'Casos_Diarios_Estado_Nacional_Defunciones_20200603.csv',\n",
       " 'Casos_Diarios_Estado_Nacional_Defunciones_20200604.csv',\n",
       " 'Casos_Diarios_Estado_Nacional_Defunciones_20200605.csv',\n",
       " 'Casos_Diarios_Estado_Nacional_Defunciones_20200606.csv',\n",
       " 'Casos_Diarios_Estado_Nacional_Negativos_20200514.csv',\n",
       " 'Casos_Diarios_Estado_Nacional_Negativos_20200515.csv',\n",
       " 'Casos_Diarios_Estado_Nacional_Negativos_20200518.csv',\n",
       " 'Casos_Diarios_Estado_Nacional_Negativos_20200519.csv',\n",
       " 'Casos_Diarios_Estado_Nacional_Negativos_20200520.csv',\n",
       " 'Casos_Diarios_Estado_Nacional_Negativos_20200521.csv',\n",
       " 'Casos_Diarios_Estado_Nacional_Negativos_20200522.csv',\n",
       " 'Casos_Diarios_Estado_Nacional_Negativos_20200523.csv',\n",
       " 'Casos_Diarios_Estado_Nacional_Negativos_20200524.csv',\n",
       " 'Casos_Diarios_Estado_Nacional_Negativos_20200525.csv',\n",
       " 'Casos_Diarios_Estado_Nacional_Negativos_20200526.csv',\n",
       " 'Casos_Diarios_Estado_Nacional_Negativos_20200527.csv',\n",
       " 'Casos_Diarios_Estado_Nacional_Negativos_20200528.csv',\n",
       " 'Casos_Diarios_Estado_Nacional_Negativos_20200529.csv',\n",
       " 'Casos_Diarios_Estado_Nacional_Negativos_20200530.csv',\n",
       " 'Casos_Diarios_Estado_Nacional_Negativos_20200531.csv',\n",
       " 'Casos_Diarios_Estado_Nacional_Negativos_20200601.csv',\n",
       " 'Casos_Diarios_Estado_Nacional_Negativos_20200602.csv',\n",
       " 'Casos_Diarios_Estado_Nacional_Negativos_20200603.csv',\n",
       " 'Casos_Diarios_Estado_Nacional_Negativos_20200604.csv',\n",
       " 'Casos_Diarios_Estado_Nacional_Negativos_20200605.csv',\n",
       " 'Casos_Diarios_Estado_Nacional_Negativos_20200606.csv',\n",
       " 'Casos_Diarios_Estado_Nacional_Sospechosos_20200514.csv',\n",
       " 'Casos_Diarios_Estado_Nacional_Sospechosos_20200515.csv',\n",
       " 'Casos_Diarios_Estado_Nacional_Sospechosos_20200518.csv',\n",
       " 'Casos_Diarios_Estado_Nacional_Sospechosos_20200519.csv',\n",
       " 'Casos_Diarios_Estado_Nacional_Sospechosos_20200520.csv',\n",
       " 'Casos_Diarios_Estado_Nacional_Sospechosos_20200521.csv',\n",
       " 'Casos_Diarios_Estado_Nacional_Sospechosos_20200522.csv',\n",
       " 'Casos_Diarios_Estado_Nacional_Sospechosos_20200523.csv',\n",
       " 'Casos_Diarios_Estado_Nacional_Sospechosos_20200524.csv',\n",
       " 'Casos_Diarios_Estado_Nacional_Sospechosos_20200525.csv',\n",
       " 'Casos_Diarios_Estado_Nacional_Sospechosos_20200526.csv',\n",
       " 'Casos_Diarios_Estado_Nacional_Sospechosos_20200527.csv',\n",
       " 'Casos_Diarios_Estado_Nacional_Sospechosos_20200528.csv',\n",
       " 'Casos_Diarios_Estado_Nacional_Sospechosos_20200529.csv',\n",
       " 'Casos_Diarios_Estado_Nacional_Sospechosos_20200530.csv',\n",
       " 'Casos_Diarios_Estado_Nacional_Sospechosos_20200531.csv',\n",
       " 'Casos_Diarios_Estado_Nacional_Sospechosos_20200601.csv',\n",
       " 'Casos_Diarios_Estado_Nacional_Sospechosos_20200602.csv',\n",
       " 'Casos_Diarios_Estado_Nacional_Sospechosos_20200603.csv',\n",
       " 'Casos_Diarios_Estado_Nacional_Sospechosos_20200604.csv',\n",
       " 'Casos_Diarios_Estado_Nacional_Sospechosos_20200605.csv',\n",
       " 'Casos_Diarios_Estado_Nacional_Sospechosos_20200606.csv']"
      ]
     },
     "execution_count": 8,
     "metadata": {},
     "output_type": "execute_result"
    }
   ],
   "source": [
    "data_dir"
   ]
  },
  {
   "cell_type": "code",
   "execution_count": 11,
   "metadata": {},
   "outputs": [],
   "source": [
    "a = pd.read_csv(os.path.join(data_path,'Casos_Diarios_Estado_Nacional_Defunciones_20200604.csv'), encoding='ANSI')"
   ]
  },
  {
   "cell_type": "code",
   "execution_count": 116,
   "metadata": {},
   "outputs": [
    {
     "data": {
      "text/plain": [
       "Timestamp('2020-06-06 00:00:00')"
      ]
     },
     "execution_count": 116,
     "metadata": {},
     "output_type": "execute_result"
    }
   ],
   "source": [
    "newest_date"
   ]
  },
  {
   "cell_type": "code",
   "execution_count": 111,
   "metadata": {},
   "outputs": [],
   "source": [
    "sufx = 'Casos_Diarios_Estado_Nacional_Defunciones_2020'\n",
    "newest_date = max(set([ pd.to_datetime(f'2020-{date[-8:-6]}-{date[-6:-4]}') for date in data_dir if date.startswith('Casos')]))\n",
    "latest_date = min(set([ pd.to_datetime(f'2020-{date[-8:-6]}-{date[-6:-4]}') for date in data_dir if date.startswith('Casos')]))\n",
    "\n",
    "newest_date = \n",
    "\n",
    "index = pd.date_range(start= latest_date, end = newest_date)\n",
    "\n",
    "\n",
    "def get_discrete_record(index, state, file):\n",
    "    if not os.path.exists(f'plots/{state}'):\n",
    "        os.makedirs(f'plots/{state}')\n",
    "        \n",
    "    data = pd.read_csv(os.path.join(data_path,file))\n",
    "    data = data[data['nombre'] == state]\n",
    "    dates = pd.to_datetime(data.columns[3:], dayfirst=True)\n",
    "    \n",
    "    plot_data = []\n",
    "                       \n",
    "    for day in index:\n",
    "        if day in dates:\n",
    "            plot_data.append(data[str(day)[-11:-9]+str(day)[-15:-11]+str(day)[:4]].values[0])\n",
    "        else:\n",
    "            plot_data.append(np.nan)\n",
    "    \n",
    "    \n",
    "    \n",
    "    \n",
    "    \n",
    "    return plot_data"
   ]
  },
  {
   "cell_type": "code",
   "execution_count": 112,
   "metadata": {},
   "outputs": [],
   "source": [
    "s = get_discrete_record(index, 'Nacional', 'Casos_Diarios_Estado_Nacional_Defunciones_20200604.csv')"
   ]
  },
  {
   "cell_type": "code",
   "execution_count": 114,
   "metadata": {},
   "outputs": [
    {
     "data": {
      "text/plain": [
       "24"
      ]
     },
     "execution_count": 114,
     "metadata": {},
     "output_type": "execute_result"
    }
   ],
   "source": [
    "len(s)"
   ]
  },
  {
   "cell_type": "code",
   "execution_count": 115,
   "metadata": {},
   "outputs": [
    {
     "data": {
      "text/plain": [
       "24"
      ]
     },
     "execution_count": 115,
     "metadata": {},
     "output_type": "execute_result"
    }
   ],
   "source": [
    "len(index)"
   ]
  },
  {
   "cell_type": "code",
   "execution_count": 85,
   "metadata": {},
   "outputs": [
    {
     "data": {
      "text/plain": [
       "'2020-05-14 00:00:00'"
      ]
     },
     "execution_count": 85,
     "metadata": {},
     "output_type": "execute_result"
    }
   ],
   "source": [
    "str(index[0])"
   ]
  },
  {
   "cell_type": "code",
   "execution_count": 96,
   "metadata": {},
   "outputs": [
    {
     "data": {
      "text/plain": [
       "'14-05-2020'"
      ]
     },
     "execution_count": 96,
     "metadata": {},
     "output_type": "execute_result"
    }
   ],
   "source": [
    "str(index[0])[-11:-9]+str(index[0])[-15:-11]+str(index[0])[:4]"
   ]
  },
  {
   "cell_type": "code",
   "execution_count": 100,
   "metadata": {},
   "outputs": [],
   "source": [
    "d = a[a['nombre']=='Nacional']\n"
   ]
  },
  {
   "cell_type": "code",
   "execution_count": 103,
   "metadata": {},
   "outputs": [
    {
     "data": {
      "text/plain": [
       "326"
      ]
     },
     "execution_count": 103,
     "metadata": {},
     "output_type": "execute_result"
    }
   ],
   "source": [
    "d[str(index[0])[-11:-9]+str(index[0])[-15:-11]+str(index[0])[:4]].values[0]"
   ]
  },
  {
   "cell_type": "code",
   "execution_count": 21,
   "metadata": {},
   "outputs": [],
   "source": [
    "newest_date = min(set([ pd.to_datetime(f'2020-{date[-8:-6]}-{date[-6:-4]}') for date in data_dir if date.startswith('Casos')]))"
   ]
  },
  {
   "cell_type": "code",
   "execution_count": 22,
   "metadata": {},
   "outputs": [
    {
     "data": {
      "text/plain": [
       "Timestamp('2020-05-14 00:00:00')"
      ]
     },
     "execution_count": 22,
     "metadata": {},
     "output_type": "execute_result"
    }
   ],
   "source": [
    "newest_date"
   ]
  },
  {
   "cell_type": "code",
   "execution_count": 13,
   "metadata": {},
   "outputs": [],
   "source": [
    "n = 'Casos_Diarios_Estado_Nacional_Negativos_20200518.csv'"
   ]
  },
  {
   "cell_type": "code",
   "execution_count": 16,
   "metadata": {},
   "outputs": [
    {
     "data": {
      "text/plain": [
       "'05-18'"
      ]
     },
     "execution_count": 16,
     "metadata": {},
     "output_type": "execute_result"
    }
   ],
   "source": [
    "f'2020-{n[-8:-6]}-{n[-6:-4]}'"
   ]
  },
  {
   "cell_type": "code",
   "execution_count": 89,
   "metadata": {},
   "outputs": [
    {
     "data": {
      "text/plain": [
       "'04-02-2020'"
      ]
     },
     "execution_count": 89,
     "metadata": {},
     "output_type": "execute_result"
    }
   ],
   "source": [
    "a.columns[3]"
   ]
  },
  {
   "cell_type": "code",
   "execution_count": 31,
   "metadata": {},
   "outputs": [],
   "source": [
    "dates = pd.to_datetime(a.columns[3:],dayfirst=True)"
   ]
  },
  {
   "cell_type": "code",
   "execution_count": 32,
   "metadata": {},
   "outputs": [
    {
     "data": {
      "text/plain": [
       "DatetimeIndex(['2020-02-04', '2020-02-05', '2020-02-06', '2020-02-07',\n",
       "               '2020-02-08', '2020-02-09', '2020-02-10', '2020-02-11',\n",
       "               '2020-02-12', '2020-02-13',\n",
       "               ...\n",
       "               '2020-05-26', '2020-05-27', '2020-05-28', '2020-05-29',\n",
       "               '2020-05-30', '2020-05-31', '2020-06-01', '2020-06-02',\n",
       "               '2020-06-03', '2020-06-04'],\n",
       "              dtype='datetime64[ns]', length=122, freq=None)"
      ]
     },
     "execution_count": 32,
     "metadata": {},
     "output_type": "execute_result"
    }
   ],
   "source": [
    "dates"
   ]
  },
  {
   "cell_type": "code",
   "execution_count": 41,
   "metadata": {},
   "outputs": [
    {
     "data": {
      "text/plain": [
       "array([0, 1, 0, 0, 0, 0, 0, 0, 0, 0, 0, 0, 0, 0, 0, 0, 1, 0, 0, 0, 0, 0,\n",
       "       0, 0, 0, 0, 0, 0, 0, 0, 0, 0, 0, 0, 0, 0, 0, 0, 0, 0, 0, 0, 0, 2,\n",
       "       0, 1, 0, 1, 2, 2, 3, 8, 6, 13, 8, 12, 22, 19, 25, 31, 31, 27, 53,\n",
       "       55, 46, 51, 63, 66, 67, 78, 82, 87, 75, 102, 101, 125, 139, 141,\n",
       "       147, 144, 179, 180, 202, 188, 172, 221, 209, 238, 216, 223, 274,\n",
       "       247, 258, 249, 258, 250, 258, 272, 271, 290, 326, 327, 299, 341,\n",
       "       336, 332, 314, 313, 316, 320, 327, 321, 298, 309, 316, 248, 253,\n",
       "       267, 254, 156, 75, 5], dtype=object)"
      ]
     },
     "execution_count": 41,
     "metadata": {},
     "output_type": "execute_result"
    }
   ],
   "source": [
    "a[a['nombre']=='Nacional'].values[0][3:]"
   ]
  },
  {
   "cell_type": "code",
   "execution_count": null,
   "metadata": {},
   "outputs": [],
   "source": []
  },
  {
   "cell_type": "code",
   "execution_count": null,
   "metadata": {},
   "outputs": [],
   "source": []
  },
  {
   "cell_type": "code",
   "execution_count": null,
   "metadata": {},
   "outputs": [],
   "source": []
  },
  {
   "cell_type": "code",
   "execution_count": 66,
   "metadata": {},
   "outputs": [],
   "source": [
    "b = np.array([[5,6,6],[5,4,2],[7,8,9]])\n",
    "c = ['foo','oioi','tuyy']"
   ]
  },
  {
   "cell_type": "code",
   "execution_count": 69,
   "metadata": {},
   "outputs": [
    {
     "data": {
      "text/plain": [
       "array([6, 4, 8])"
      ]
     },
     "execution_count": 69,
     "metadata": {},
     "output_type": "execute_result"
    }
   ],
   "source": [
    "b[:,1]"
   ]
  },
  {
   "cell_type": "code",
   "execution_count": 76,
   "metadata": {},
   "outputs": [],
   "source": [
    "d = {}\n",
    "for ind,i in enumerate(c):\n",
    "    d[i]= b[:,ind]"
   ]
  },
  {
   "cell_type": "code",
   "execution_count": 77,
   "metadata": {},
   "outputs": [
    {
     "data": {
      "text/plain": [
       "{'foo': array([5, 5, 7]), 'oioi': array([6, 4, 8]), 'tuyy': array([6, 2, 9])}"
      ]
     },
     "execution_count": 77,
     "metadata": {},
     "output_type": "execute_result"
    }
   ],
   "source": [
    "d"
   ]
  },
  {
   "cell_type": "code",
   "execution_count": 78,
   "metadata": {},
   "outputs": [],
   "source": [
    "e = pd.DataFrame(data=d)"
   ]
  },
  {
   "cell_type": "code",
   "execution_count": 79,
   "metadata": {},
   "outputs": [
    {
     "data": {
      "text/html": [
       "<div>\n",
       "<style scoped>\n",
       "    .dataframe tbody tr th:only-of-type {\n",
       "        vertical-align: middle;\n",
       "    }\n",
       "\n",
       "    .dataframe tbody tr th {\n",
       "        vertical-align: top;\n",
       "    }\n",
       "\n",
       "    .dataframe thead th {\n",
       "        text-align: right;\n",
       "    }\n",
       "</style>\n",
       "<table border=\"1\" class=\"dataframe\">\n",
       "  <thead>\n",
       "    <tr style=\"text-align: right;\">\n",
       "      <th></th>\n",
       "      <th>foo</th>\n",
       "      <th>oioi</th>\n",
       "      <th>tuyy</th>\n",
       "    </tr>\n",
       "  </thead>\n",
       "  <tbody>\n",
       "    <tr>\n",
       "      <th>0</th>\n",
       "      <td>5</td>\n",
       "      <td>6</td>\n",
       "      <td>6</td>\n",
       "    </tr>\n",
       "    <tr>\n",
       "      <th>1</th>\n",
       "      <td>5</td>\n",
       "      <td>4</td>\n",
       "      <td>2</td>\n",
       "    </tr>\n",
       "    <tr>\n",
       "      <th>2</th>\n",
       "      <td>7</td>\n",
       "      <td>8</td>\n",
       "      <td>9</td>\n",
       "    </tr>\n",
       "  </tbody>\n",
       "</table>\n",
       "</div>"
      ],
      "text/plain": [
       "   foo  oioi  tuyy\n",
       "0    5     6     6\n",
       "1    5     4     2\n",
       "2    7     8     9"
      ]
     },
     "execution_count": 79,
     "metadata": {},
     "output_type": "execute_result"
    }
   ],
   "source": [
    "e"
   ]
  },
  {
   "cell_type": "code",
   "execution_count": null,
   "metadata": {},
   "outputs": [],
   "source": [
    "{'Column1': data[:, 0], 'Column2': data[:, 1]})"
   ]
  }
 ],
 "metadata": {
  "kernelspec": {
   "display_name": "Python 3",
   "language": "python",
   "name": "python3"
  },
  "language_info": {
   "codemirror_mode": {
    "name": "ipython",
    "version": 3
   },
   "file_extension": ".py",
   "mimetype": "text/x-python",
   "name": "python",
   "nbconvert_exporter": "python",
   "pygments_lexer": "ipython3",
   "version": "3.7.5"
  }
 },
 "nbformat": 4,
 "nbformat_minor": 4
}
